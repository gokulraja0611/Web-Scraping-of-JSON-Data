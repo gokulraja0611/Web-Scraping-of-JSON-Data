{
  "nbformat": 4,
  "nbformat_minor": 0,
  "metadata": {
    "colab": {
      "name": "Web Scraping ofJSON Data.ipynb",
      "provenance": [],
      "collapsed_sections": []
    },
    "kernelspec": {
      "name": "python3",
      "display_name": "Python 3"
    },
    "language_info": {
      "name": "python"
    }
  },
  "cells": [
    {
      "cell_type": "code",
      "metadata": {
        "id": "LY1XjsteYzHv"
      },
      "source": [
        "#WebScraping tools\n",
        "from bs4 import BeautifulSoup\n",
        "import requests\n",
        "#Data Manipulation tool\n",
        "import pandas as pd\n",
        "#To perform the Mathematical operations\n",
        "import numpy as np\n",
        "#Data Visualisation tools\n",
        "import matplotlib.pyplot as plt\n",
        "import seaborn as sns\n",
        "#Data Cleaning tool\n",
        "import re"
      ],
      "execution_count": null,
      "outputs": []
    },
    {
      "cell_type": "code",
      "metadata": {
        "id": "HrqvG7LaYzKx"
      },
      "source": [
        "url = \"https://raw.githubusercontent.com/ozlerhakan/mongodb-json-files/master/datasets/grades.json\"\n",
        "req = requests.get(url)"
      ],
      "execution_count": null,
      "outputs": []
    },
    {
      "cell_type": "code",
      "metadata": {
        "colab": {
          "base_uri": "https://localhost:8080/"
        },
        "id": "N8ajPS33YzNt",
        "outputId": "7cf671ee-0fc9-48c9-e920-d9c2ae77771e"
      },
      "source": [
        "req"
      ],
      "execution_count": null,
      "outputs": [
        {
          "output_type": "execute_result",
          "data": {
            "text/plain": [
              "<Response [200]>"
            ]
          },
          "metadata": {
            "tags": []
          },
          "execution_count": 3
        }
      ]
    },
    {
      "cell_type": "code",
      "metadata": {
        "id": "pTnzBD_fYzPg"
      },
      "source": [
        "soup = BeautifulSoup(req.content)"
      ],
      "execution_count": null,
      "outputs": []
    },
    {
      "cell_type": "code",
      "metadata": {
        "id": "1C3go3nPYzbc"
      },
      "source": [
        "df = pd.read_json(\"https://raw.githubusercontent.com/ozlerhakan/mongodb-json-files/master/datasets/grades.json\", lines=True)"
      ],
      "execution_count": null,
      "outputs": []
    },
    {
      "cell_type": "code",
      "metadata": {
        "colab": {
          "base_uri": "https://localhost:8080/",
          "height": 419
        },
        "id": "rD4ypnCnYzdr",
        "outputId": "22ca765e-77b0-4939-bb0a-5115b3c800d5"
      },
      "source": [
        "df"
      ],
      "execution_count": null,
      "outputs": [
        {
          "output_type": "execute_result",
          "data": {
            "text/html": [
              "<div>\n",
              "<style scoped>\n",
              "    .dataframe tbody tr th:only-of-type {\n",
              "        vertical-align: middle;\n",
              "    }\n",
              "\n",
              "    .dataframe tbody tr th {\n",
              "        vertical-align: top;\n",
              "    }\n",
              "\n",
              "    .dataframe thead th {\n",
              "        text-align: right;\n",
              "    }\n",
              "</style>\n",
              "<table border=\"1\" class=\"dataframe\">\n",
              "  <thead>\n",
              "    <tr style=\"text-align: right;\">\n",
              "      <th></th>\n",
              "      <th>_id</th>\n",
              "      <th>student_id</th>\n",
              "      <th>class_id</th>\n",
              "      <th>scores</th>\n",
              "    </tr>\n",
              "  </thead>\n",
              "  <tbody>\n",
              "    <tr>\n",
              "      <th>0</th>\n",
              "      <td>{'$oid': '50b59cd75bed76f46522c34e'}</td>\n",
              "      <td>0</td>\n",
              "      <td>2</td>\n",
              "      <td>[{'type': 'exam', 'score': 57.92947112575566},...</td>\n",
              "    </tr>\n",
              "    <tr>\n",
              "      <th>1</th>\n",
              "      <td>{'$oid': '50b59cd75bed76f46522c34f'}</td>\n",
              "      <td>0</td>\n",
              "      <td>28</td>\n",
              "      <td>[{'type': 'exam', 'score': 39.17749400402234},...</td>\n",
              "    </tr>\n",
              "    <tr>\n",
              "      <th>2</th>\n",
              "      <td>{'$oid': '50b59cd75bed76f46522c350'}</td>\n",
              "      <td>0</td>\n",
              "      <td>5</td>\n",
              "      <td>[{'type': 'exam', 'score': 88.22950674232497},...</td>\n",
              "    </tr>\n",
              "    <tr>\n",
              "      <th>3</th>\n",
              "      <td>{'$oid': '50b59cd75bed76f46522c351'}</td>\n",
              "      <td>0</td>\n",
              "      <td>16</td>\n",
              "      <td>[{'type': 'exam', 'score': 59.1805667559299}, ...</td>\n",
              "    </tr>\n",
              "    <tr>\n",
              "      <th>4</th>\n",
              "      <td>{'$oid': '50b59cd75bed76f46522c352'}</td>\n",
              "      <td>0</td>\n",
              "      <td>24</td>\n",
              "      <td>[{'type': 'exam', 'score': 4.444435759027499},...</td>\n",
              "    </tr>\n",
              "    <tr>\n",
              "      <th>...</th>\n",
              "      <td>...</td>\n",
              "      <td>...</td>\n",
              "      <td>...</td>\n",
              "      <td>...</td>\n",
              "    </tr>\n",
              "    <tr>\n",
              "      <th>275</th>\n",
              "      <td>{'$oid': '50b59cd75bed76f46522c461'}</td>\n",
              "      <td>48</td>\n",
              "      <td>10</td>\n",
              "      <td>[{'type': 'exam', 'score': 19.75901367795435},...</td>\n",
              "    </tr>\n",
              "    <tr>\n",
              "      <th>276</th>\n",
              "      <td>{'$oid': '50b59cd75bed76f46522c462'}</td>\n",
              "      <td>48</td>\n",
              "      <td>14</td>\n",
              "      <td>[{'type': 'exam', 'score': 66.79008851052096},...</td>\n",
              "    </tr>\n",
              "    <tr>\n",
              "      <th>277</th>\n",
              "      <td>{'$oid': '50b59cd75bed76f46522c463'}</td>\n",
              "      <td>48</td>\n",
              "      <td>8</td>\n",
              "      <td>[{'type': 'exam', 'score': 87.50309579619501},...</td>\n",
              "    </tr>\n",
              "    <tr>\n",
              "      <th>278</th>\n",
              "      <td>{'$oid': '50b59cd75bed76f46522c464'}</td>\n",
              "      <td>48</td>\n",
              "      <td>15</td>\n",
              "      <td>[{'type': 'exam', 'score': 17.49112864462374},...</td>\n",
              "    </tr>\n",
              "    <tr>\n",
              "      <th>279</th>\n",
              "      <td>{'$oid': '50b59cd75bed76f46522c465'}</td>\n",
              "      <td>49</td>\n",
              "      <td>29</td>\n",
              "      <td>[{'type': 'exam', 'score': 26.67878234847454},...</td>\n",
              "    </tr>\n",
              "  </tbody>\n",
              "</table>\n",
              "<p>280 rows × 4 columns</p>\n",
              "</div>"
            ],
            "text/plain": [
              "                                      _id  ...                                             scores\n",
              "0    {'$oid': '50b59cd75bed76f46522c34e'}  ...  [{'type': 'exam', 'score': 57.92947112575566},...\n",
              "1    {'$oid': '50b59cd75bed76f46522c34f'}  ...  [{'type': 'exam', 'score': 39.17749400402234},...\n",
              "2    {'$oid': '50b59cd75bed76f46522c350'}  ...  [{'type': 'exam', 'score': 88.22950674232497},...\n",
              "3    {'$oid': '50b59cd75bed76f46522c351'}  ...  [{'type': 'exam', 'score': 59.1805667559299}, ...\n",
              "4    {'$oid': '50b59cd75bed76f46522c352'}  ...  [{'type': 'exam', 'score': 4.444435759027499},...\n",
              "..                                    ...  ...                                                ...\n",
              "275  {'$oid': '50b59cd75bed76f46522c461'}  ...  [{'type': 'exam', 'score': 19.75901367795435},...\n",
              "276  {'$oid': '50b59cd75bed76f46522c462'}  ...  [{'type': 'exam', 'score': 66.79008851052096},...\n",
              "277  {'$oid': '50b59cd75bed76f46522c463'}  ...  [{'type': 'exam', 'score': 87.50309579619501},...\n",
              "278  {'$oid': '50b59cd75bed76f46522c464'}  ...  [{'type': 'exam', 'score': 17.49112864462374},...\n",
              "279  {'$oid': '50b59cd75bed76f46522c465'}  ...  [{'type': 'exam', 'score': 26.67878234847454},...\n",
              "\n",
              "[280 rows x 4 columns]"
            ]
          },
          "metadata": {
            "tags": []
          },
          "execution_count": 3
        }
      ]
    },
    {
      "cell_type": "code",
      "metadata": {
        "colab": {
          "base_uri": "https://localhost:8080/"
        },
        "id": "pXeS7w9v-8Dg",
        "outputId": "c6e54450-4946-4e28-adc0-019a74ffadb3"
      },
      "source": [
        "for i in range(len(df._id)):\n",
        "  df._id[i] = re.sub(\"^{.* '|'}\",'',str(df._id[i]))"
      ],
      "execution_count": null,
      "outputs": [
        {
          "output_type": "stream",
          "text": [
            "/usr/local/lib/python3.7/dist-packages/ipykernel_launcher.py:2: SettingWithCopyWarning: \n",
            "A value is trying to be set on a copy of a slice from a DataFrame\n",
            "\n",
            "See the caveats in the documentation: https://pandas.pydata.org/pandas-docs/stable/user_guide/indexing.html#returning-a-view-versus-a-copy\n",
            "  \n"
          ],
          "name": "stderr"
        }
      ]
    },
    {
      "cell_type": "code",
      "metadata": {
        "colab": {
          "base_uri": "https://localhost:8080/",
          "height": 419
        },
        "id": "ejgolpyDYzmV",
        "outputId": "6f29b02b-e6bb-401f-887f-7c75dd2549ad"
      },
      "source": [
        "df"
      ],
      "execution_count": null,
      "outputs": [
        {
          "output_type": "execute_result",
          "data": {
            "text/html": [
              "<div>\n",
              "<style scoped>\n",
              "    .dataframe tbody tr th:only-of-type {\n",
              "        vertical-align: middle;\n",
              "    }\n",
              "\n",
              "    .dataframe tbody tr th {\n",
              "        vertical-align: top;\n",
              "    }\n",
              "\n",
              "    .dataframe thead th {\n",
              "        text-align: right;\n",
              "    }\n",
              "</style>\n",
              "<table border=\"1\" class=\"dataframe\">\n",
              "  <thead>\n",
              "    <tr style=\"text-align: right;\">\n",
              "      <th></th>\n",
              "      <th>_id</th>\n",
              "      <th>student_id</th>\n",
              "      <th>class_id</th>\n",
              "      <th>scores</th>\n",
              "    </tr>\n",
              "  </thead>\n",
              "  <tbody>\n",
              "    <tr>\n",
              "      <th>0</th>\n",
              "      <td>50b59cd75bed76f46522c34e</td>\n",
              "      <td>0</td>\n",
              "      <td>2</td>\n",
              "      <td>[{'type': 'exam', 'score': 57.92947112575566},...</td>\n",
              "    </tr>\n",
              "    <tr>\n",
              "      <th>1</th>\n",
              "      <td>50b59cd75bed76f46522c34f</td>\n",
              "      <td>0</td>\n",
              "      <td>28</td>\n",
              "      <td>[{'type': 'exam', 'score': 39.17749400402234},...</td>\n",
              "    </tr>\n",
              "    <tr>\n",
              "      <th>2</th>\n",
              "      <td>50b59cd75bed76f46522c350</td>\n",
              "      <td>0</td>\n",
              "      <td>5</td>\n",
              "      <td>[{'type': 'exam', 'score': 88.22950674232497},...</td>\n",
              "    </tr>\n",
              "    <tr>\n",
              "      <th>3</th>\n",
              "      <td>50b59cd75bed76f46522c351</td>\n",
              "      <td>0</td>\n",
              "      <td>16</td>\n",
              "      <td>[{'type': 'exam', 'score': 59.1805667559299}, ...</td>\n",
              "    </tr>\n",
              "    <tr>\n",
              "      <th>4</th>\n",
              "      <td>50b59cd75bed76f46522c352</td>\n",
              "      <td>0</td>\n",
              "      <td>24</td>\n",
              "      <td>[{'type': 'exam', 'score': 4.444435759027499},...</td>\n",
              "    </tr>\n",
              "    <tr>\n",
              "      <th>...</th>\n",
              "      <td>...</td>\n",
              "      <td>...</td>\n",
              "      <td>...</td>\n",
              "      <td>...</td>\n",
              "    </tr>\n",
              "    <tr>\n",
              "      <th>275</th>\n",
              "      <td>50b59cd75bed76f46522c461</td>\n",
              "      <td>48</td>\n",
              "      <td>10</td>\n",
              "      <td>[{'type': 'exam', 'score': 19.75901367795435},...</td>\n",
              "    </tr>\n",
              "    <tr>\n",
              "      <th>276</th>\n",
              "      <td>50b59cd75bed76f46522c462</td>\n",
              "      <td>48</td>\n",
              "      <td>14</td>\n",
              "      <td>[{'type': 'exam', 'score': 66.79008851052096},...</td>\n",
              "    </tr>\n",
              "    <tr>\n",
              "      <th>277</th>\n",
              "      <td>50b59cd75bed76f46522c463</td>\n",
              "      <td>48</td>\n",
              "      <td>8</td>\n",
              "      <td>[{'type': 'exam', 'score': 87.50309579619501},...</td>\n",
              "    </tr>\n",
              "    <tr>\n",
              "      <th>278</th>\n",
              "      <td>50b59cd75bed76f46522c464</td>\n",
              "      <td>48</td>\n",
              "      <td>15</td>\n",
              "      <td>[{'type': 'exam', 'score': 17.49112864462374},...</td>\n",
              "    </tr>\n",
              "    <tr>\n",
              "      <th>279</th>\n",
              "      <td>50b59cd75bed76f46522c465</td>\n",
              "      <td>49</td>\n",
              "      <td>29</td>\n",
              "      <td>[{'type': 'exam', 'score': 26.67878234847454},...</td>\n",
              "    </tr>\n",
              "  </tbody>\n",
              "</table>\n",
              "<p>280 rows × 4 columns</p>\n",
              "</div>"
            ],
            "text/plain": [
              "                          _id  ...                                             scores\n",
              "0    50b59cd75bed76f46522c34e  ...  [{'type': 'exam', 'score': 57.92947112575566},...\n",
              "1    50b59cd75bed76f46522c34f  ...  [{'type': 'exam', 'score': 39.17749400402234},...\n",
              "2    50b59cd75bed76f46522c350  ...  [{'type': 'exam', 'score': 88.22950674232497},...\n",
              "3    50b59cd75bed76f46522c351  ...  [{'type': 'exam', 'score': 59.1805667559299}, ...\n",
              "4    50b59cd75bed76f46522c352  ...  [{'type': 'exam', 'score': 4.444435759027499},...\n",
              "..                        ...  ...                                                ...\n",
              "275  50b59cd75bed76f46522c461  ...  [{'type': 'exam', 'score': 19.75901367795435},...\n",
              "276  50b59cd75bed76f46522c462  ...  [{'type': 'exam', 'score': 66.79008851052096},...\n",
              "277  50b59cd75bed76f46522c463  ...  [{'type': 'exam', 'score': 87.50309579619501},...\n",
              "278  50b59cd75bed76f46522c464  ...  [{'type': 'exam', 'score': 17.49112864462374},...\n",
              "279  50b59cd75bed76f46522c465  ...  [{'type': 'exam', 'score': 26.67878234847454},...\n",
              "\n",
              "[280 rows x 4 columns]"
            ]
          },
          "metadata": {
            "tags": []
          },
          "execution_count": 25
        }
      ]
    },
    {
      "cell_type": "code",
      "metadata": {
        "colab": {
          "base_uri": "https://localhost:8080/"
        },
        "id": "zy5T01T_iUJp",
        "outputId": "08dfab1f-c1f4-4ddf-b8bc-4bb148882d9c"
      },
      "source": [
        "df.scores[0]"
      ],
      "execution_count": null,
      "outputs": [
        {
          "output_type": "execute_result",
          "data": {
            "text/plain": [
              "[{'score': 57.92947112575566, 'type': 'exam'},\n",
              " {'score': 21.24542588206755, 'type': 'quiz'},\n",
              " {'score': 68.1956781058743, 'type': 'homework'},\n",
              " {'score': 67.95019716560351, 'type': 'homework'},\n",
              " {'score': 18.81037253352722, 'type': 'homework'}]"
            ]
          },
          "metadata": {
            "tags": []
          },
          "execution_count": 18
        }
      ]
    },
    {
      "cell_type": "code",
      "metadata": {
        "id": "qERfgVUQiUMd"
      },
      "source": [
        "3 Columns -> exam_score, quiz_score, homework_score\n",
        "._ _\n",
        "\n",
        "Final output -> id, student_id, class id, exam_score, quiz_score, homework_score"
      ],
      "execution_count": null,
      "outputs": []
    },
    {
      "cell_type": "code",
      "metadata": {
        "id": "JdrPo-3JiUqh"
      },
      "source": [
        "# List Comprehension\n",
        "exam_score = [round(float(re.sub('^{.*: |}','',str(df['scores'][i][0]))),2) for i in range(len(df['scores']))]\n",
        "quiz_score = [round(float(re.sub('^{.*: |}','',str(df['scores'][i][1]))),2) for i in range(len(df['scores']))]\n",
        "homework_score=[round(sum(list(map(float,re.findall('\\d+.\\d+',str(df['scores'][i][2:])))))/len(list(map(float,re.findall('\\d+.\\d+',str(df['scores'][i][2:]))))),2) for i in range(len(df['scores']))]"
      ],
      "execution_count": null,
      "outputs": []
    },
    {
      "cell_type": "code",
      "metadata": {
        "id": "2wKxyfVDiVXZ"
      },
      "source": [
        "new_df = pd.DataFrame({\"id\":df['_id'], \"student_id\":df['student_id'], \"class_id\":df['class_id'],\n",
        "                       \"exam_score\":exam_score,\"quiz_score\":quiz_score, \"homework_score\":homework_score})"
      ],
      "execution_count": null,
      "outputs": []
    },
    {
      "cell_type": "code",
      "metadata": {
        "colab": {
          "base_uri": "https://localhost:8080/",
          "height": 419
        },
        "id": "yWkdzUWLiVaB",
        "outputId": "9d9eb20c-3ecb-46b8-a093-36732434bdfd"
      },
      "source": [
        "new_df"
      ],
      "execution_count": null,
      "outputs": [
        {
          "output_type": "execute_result",
          "data": {
            "text/html": [
              "<div>\n",
              "<style scoped>\n",
              "    .dataframe tbody tr th:only-of-type {\n",
              "        vertical-align: middle;\n",
              "    }\n",
              "\n",
              "    .dataframe tbody tr th {\n",
              "        vertical-align: top;\n",
              "    }\n",
              "\n",
              "    .dataframe thead th {\n",
              "        text-align: right;\n",
              "    }\n",
              "</style>\n",
              "<table border=\"1\" class=\"dataframe\">\n",
              "  <thead>\n",
              "    <tr style=\"text-align: right;\">\n",
              "      <th></th>\n",
              "      <th>id</th>\n",
              "      <th>student_id</th>\n",
              "      <th>class_id</th>\n",
              "      <th>exam_score</th>\n",
              "      <th>quiz_score</th>\n",
              "      <th>homework_score</th>\n",
              "    </tr>\n",
              "  </thead>\n",
              "  <tbody>\n",
              "    <tr>\n",
              "      <th>0</th>\n",
              "      <td>50b59cd75bed76f46522c34e</td>\n",
              "      <td>0</td>\n",
              "      <td>2</td>\n",
              "      <td>57.93</td>\n",
              "      <td>21.25</td>\n",
              "      <td>51.65</td>\n",
              "    </tr>\n",
              "    <tr>\n",
              "      <th>1</th>\n",
              "      <td>50b59cd75bed76f46522c34f</td>\n",
              "      <td>0</td>\n",
              "      <td>28</td>\n",
              "      <td>39.18</td>\n",
              "      <td>78.44</td>\n",
              "      <td>48.94</td>\n",
              "    </tr>\n",
              "    <tr>\n",
              "      <th>2</th>\n",
              "      <td>50b59cd75bed76f46522c350</td>\n",
              "      <td>0</td>\n",
              "      <td>5</td>\n",
              "      <td>88.23</td>\n",
              "      <td>79.29</td>\n",
              "      <td>37.29</td>\n",
              "    </tr>\n",
              "    <tr>\n",
              "      <th>3</th>\n",
              "      <td>50b59cd75bed76f46522c351</td>\n",
              "      <td>0</td>\n",
              "      <td>16</td>\n",
              "      <td>59.18</td>\n",
              "      <td>47.59</td>\n",
              "      <td>51.12</td>\n",
              "    </tr>\n",
              "    <tr>\n",
              "      <th>4</th>\n",
              "      <td>50b59cd75bed76f46522c352</td>\n",
              "      <td>0</td>\n",
              "      <td>24</td>\n",
              "      <td>4.44</td>\n",
              "      <td>28.63</td>\n",
              "      <td>85.35</td>\n",
              "    </tr>\n",
              "    <tr>\n",
              "      <th>...</th>\n",
              "      <td>...</td>\n",
              "      <td>...</td>\n",
              "      <td>...</td>\n",
              "      <td>...</td>\n",
              "      <td>...</td>\n",
              "      <td>...</td>\n",
              "    </tr>\n",
              "    <tr>\n",
              "      <th>275</th>\n",
              "      <td>50b59cd75bed76f46522c461</td>\n",
              "      <td>48</td>\n",
              "      <td>10</td>\n",
              "      <td>19.76</td>\n",
              "      <td>88.30</td>\n",
              "      <td>30.80</td>\n",
              "    </tr>\n",
              "    <tr>\n",
              "      <th>276</th>\n",
              "      <td>50b59cd75bed76f46522c462</td>\n",
              "      <td>48</td>\n",
              "      <td>14</td>\n",
              "      <td>66.79</td>\n",
              "      <td>6.84</td>\n",
              "      <td>84.03</td>\n",
              "    </tr>\n",
              "    <tr>\n",
              "      <th>277</th>\n",
              "      <td>50b59cd75bed76f46522c463</td>\n",
              "      <td>48</td>\n",
              "      <td>8</td>\n",
              "      <td>87.50</td>\n",
              "      <td>77.95</td>\n",
              "      <td>60.19</td>\n",
              "    </tr>\n",
              "    <tr>\n",
              "      <th>278</th>\n",
              "      <td>50b59cd75bed76f46522c464</td>\n",
              "      <td>48</td>\n",
              "      <td>15</td>\n",
              "      <td>17.49</td>\n",
              "      <td>26.63</td>\n",
              "      <td>52.28</td>\n",
              "    </tr>\n",
              "    <tr>\n",
              "      <th>279</th>\n",
              "      <td>50b59cd75bed76f46522c465</td>\n",
              "      <td>49</td>\n",
              "      <td>29</td>\n",
              "      <td>26.68</td>\n",
              "      <td>43.35</td>\n",
              "      <td>20.08</td>\n",
              "    </tr>\n",
              "  </tbody>\n",
              "</table>\n",
              "<p>280 rows × 6 columns</p>\n",
              "</div>"
            ],
            "text/plain": [
              "                             id  student_id  ...  quiz_score  homework_score\n",
              "0     50b59cd75bed76f46522c34e            0  ...       21.25           51.65\n",
              "1     50b59cd75bed76f46522c34f            0  ...       78.44           48.94\n",
              "2     50b59cd75bed76f46522c350            0  ...       79.29           37.29\n",
              "3     50b59cd75bed76f46522c351            0  ...       47.59           51.12\n",
              "4     50b59cd75bed76f46522c352            0  ...       28.63           85.35\n",
              "..                          ...         ...  ...         ...             ...\n",
              "275   50b59cd75bed76f46522c461           48  ...       88.30           30.80\n",
              "276   50b59cd75bed76f46522c462           48  ...        6.84           84.03\n",
              "277   50b59cd75bed76f46522c463           48  ...       77.95           60.19\n",
              "278   50b59cd75bed76f46522c464           48  ...       26.63           52.28\n",
              "279   50b59cd75bed76f46522c465           49  ...       43.35           20.08\n",
              "\n",
              "[280 rows x 6 columns]"
            ]
          },
          "metadata": {
            "tags": []
          },
          "execution_count": 131
        }
      ]
    },
    {
      "cell_type": "code",
      "metadata": {
        "colab": {
          "base_uri": "https://localhost:8080/"
        },
        "id": "GUlDKiGNiVcy",
        "outputId": "4d8d5f96-b478-4366-ff8e-65a78b53634e"
      },
      "source": [
        "new_df.info()"
      ],
      "execution_count": null,
      "outputs": [
        {
          "output_type": "stream",
          "text": [
            "<class 'pandas.core.frame.DataFrame'>\n",
            "RangeIndex: 280 entries, 0 to 279\n",
            "Data columns (total 6 columns):\n",
            " #   Column          Non-Null Count  Dtype  \n",
            "---  ------          --------------  -----  \n",
            " 0   id              280 non-null    object \n",
            " 1   student_id      280 non-null    int64  \n",
            " 2   class_id        280 non-null    int64  \n",
            " 3   exam_score      280 non-null    float64\n",
            " 4   quiz_score      280 non-null    float64\n",
            " 5   homework_score  280 non-null    float64\n",
            "dtypes: float64(3), int64(2), object(1)\n",
            "memory usage: 13.2+ KB\n"
          ],
          "name": "stdout"
        }
      ]
    },
    {
      "cell_type": "code",
      "metadata": {
        "colab": {
          "base_uri": "https://localhost:8080/",
          "height": 297
        },
        "id": "51yHxfRBiVez",
        "outputId": "f1b1cfeb-3b6e-4593-a422-dead51b3440d"
      },
      "source": [
        "new_df.describe()"
      ],
      "execution_count": null,
      "outputs": [
        {
          "output_type": "execute_result",
          "data": {
            "text/html": [
              "<div>\n",
              "<style scoped>\n",
              "    .dataframe tbody tr th:only-of-type {\n",
              "        vertical-align: middle;\n",
              "    }\n",
              "\n",
              "    .dataframe tbody tr th {\n",
              "        vertical-align: top;\n",
              "    }\n",
              "\n",
              "    .dataframe thead th {\n",
              "        text-align: right;\n",
              "    }\n",
              "</style>\n",
              "<table border=\"1\" class=\"dataframe\">\n",
              "  <thead>\n",
              "    <tr style=\"text-align: right;\">\n",
              "      <th></th>\n",
              "      <th>student_id</th>\n",
              "      <th>class_id</th>\n",
              "      <th>exam_score</th>\n",
              "      <th>quiz_score</th>\n",
              "      <th>homework_score</th>\n",
              "    </tr>\n",
              "  </thead>\n",
              "  <tbody>\n",
              "    <tr>\n",
              "      <th>count</th>\n",
              "      <td>280.000000</td>\n",
              "      <td>280.000000</td>\n",
              "      <td>280.000000</td>\n",
              "      <td>280.000000</td>\n",
              "      <td>280.000000</td>\n",
              "    </tr>\n",
              "    <tr>\n",
              "      <th>mean</th>\n",
              "      <td>23.717857</td>\n",
              "      <td>15.096429</td>\n",
              "      <td>50.831143</td>\n",
              "      <td>48.960893</td>\n",
              "      <td>48.654464</td>\n",
              "    </tr>\n",
              "    <tr>\n",
              "      <th>std</th>\n",
              "      <td>14.314029</td>\n",
              "      <td>8.958766</td>\n",
              "      <td>28.709625</td>\n",
              "      <td>29.398710</td>\n",
              "      <td>20.154817</td>\n",
              "    </tr>\n",
              "    <tr>\n",
              "      <th>min</th>\n",
              "      <td>0.000000</td>\n",
              "      <td>0.000000</td>\n",
              "      <td>0.500000</td>\n",
              "      <td>0.720000</td>\n",
              "      <td>4.790000</td>\n",
              "    </tr>\n",
              "    <tr>\n",
              "      <th>25%</th>\n",
              "      <td>11.000000</td>\n",
              "      <td>7.000000</td>\n",
              "      <td>24.117500</td>\n",
              "      <td>23.837500</td>\n",
              "      <td>34.517500</td>\n",
              "    </tr>\n",
              "    <tr>\n",
              "      <th>50%</th>\n",
              "      <td>24.000000</td>\n",
              "      <td>15.500000</td>\n",
              "      <td>49.685000</td>\n",
              "      <td>49.850000</td>\n",
              "      <td>48.370000</td>\n",
              "    </tr>\n",
              "    <tr>\n",
              "      <th>75%</th>\n",
              "      <td>37.000000</td>\n",
              "      <td>23.000000</td>\n",
              "      <td>75.517500</td>\n",
              "      <td>72.822500</td>\n",
              "      <td>61.672500</td>\n",
              "    </tr>\n",
              "    <tr>\n",
              "      <th>max</th>\n",
              "      <td>49.000000</td>\n",
              "      <td>30.000000</td>\n",
              "      <td>99.980000</td>\n",
              "      <td>99.910000</td>\n",
              "      <td>98.920000</td>\n",
              "    </tr>\n",
              "  </tbody>\n",
              "</table>\n",
              "</div>"
            ],
            "text/plain": [
              "       student_id    class_id  exam_score  quiz_score  homework_score\n",
              "count  280.000000  280.000000  280.000000  280.000000      280.000000\n",
              "mean    23.717857   15.096429   50.831143   48.960893       48.654464\n",
              "std     14.314029    8.958766   28.709625   29.398710       20.154817\n",
              "min      0.000000    0.000000    0.500000    0.720000        4.790000\n",
              "25%     11.000000    7.000000   24.117500   23.837500       34.517500\n",
              "50%     24.000000   15.500000   49.685000   49.850000       48.370000\n",
              "75%     37.000000   23.000000   75.517500   72.822500       61.672500\n",
              "max     49.000000   30.000000   99.980000   99.910000       98.920000"
            ]
          },
          "metadata": {
            "tags": []
          },
          "execution_count": 134
        }
      ]
    },
    {
      "cell_type": "code",
      "metadata": {
        "id": "sN_32OQaiViB"
      },
      "source": [
        "new_df.drop(['student_id'],inplace=True,axis=1)"
      ],
      "execution_count": null,
      "outputs": []
    },
    {
      "cell_type": "code",
      "metadata": {
        "colab": {
          "base_uri": "https://localhost:8080/",
          "height": 419
        },
        "id": "WkqeATfliVmR",
        "outputId": "36e93da0-73ce-4ae5-a538-663f7f5b0938"
      },
      "source": [
        "new_df"
      ],
      "execution_count": null,
      "outputs": [
        {
          "output_type": "execute_result",
          "data": {
            "text/html": [
              "<div>\n",
              "<style scoped>\n",
              "    .dataframe tbody tr th:only-of-type {\n",
              "        vertical-align: middle;\n",
              "    }\n",
              "\n",
              "    .dataframe tbody tr th {\n",
              "        vertical-align: top;\n",
              "    }\n",
              "\n",
              "    .dataframe thead th {\n",
              "        text-align: right;\n",
              "    }\n",
              "</style>\n",
              "<table border=\"1\" class=\"dataframe\">\n",
              "  <thead>\n",
              "    <tr style=\"text-align: right;\">\n",
              "      <th></th>\n",
              "      <th>id</th>\n",
              "      <th>exam_score</th>\n",
              "      <th>quiz_score</th>\n",
              "      <th>homework_score</th>\n",
              "    </tr>\n",
              "  </thead>\n",
              "  <tbody>\n",
              "    <tr>\n",
              "      <th>0</th>\n",
              "      <td>50b59cd75bed76f46522c34e</td>\n",
              "      <td>57.93</td>\n",
              "      <td>21.25</td>\n",
              "      <td>51.65</td>\n",
              "    </tr>\n",
              "    <tr>\n",
              "      <th>1</th>\n",
              "      <td>50b59cd75bed76f46522c34f</td>\n",
              "      <td>39.18</td>\n",
              "      <td>78.44</td>\n",
              "      <td>48.94</td>\n",
              "    </tr>\n",
              "    <tr>\n",
              "      <th>2</th>\n",
              "      <td>50b59cd75bed76f46522c350</td>\n",
              "      <td>88.23</td>\n",
              "      <td>79.29</td>\n",
              "      <td>37.29</td>\n",
              "    </tr>\n",
              "    <tr>\n",
              "      <th>3</th>\n",
              "      <td>50b59cd75bed76f46522c351</td>\n",
              "      <td>59.18</td>\n",
              "      <td>47.59</td>\n",
              "      <td>51.12</td>\n",
              "    </tr>\n",
              "    <tr>\n",
              "      <th>4</th>\n",
              "      <td>50b59cd75bed76f46522c352</td>\n",
              "      <td>4.44</td>\n",
              "      <td>28.63</td>\n",
              "      <td>85.35</td>\n",
              "    </tr>\n",
              "    <tr>\n",
              "      <th>...</th>\n",
              "      <td>...</td>\n",
              "      <td>...</td>\n",
              "      <td>...</td>\n",
              "      <td>...</td>\n",
              "    </tr>\n",
              "    <tr>\n",
              "      <th>275</th>\n",
              "      <td>50b59cd75bed76f46522c461</td>\n",
              "      <td>19.76</td>\n",
              "      <td>88.30</td>\n",
              "      <td>30.80</td>\n",
              "    </tr>\n",
              "    <tr>\n",
              "      <th>276</th>\n",
              "      <td>50b59cd75bed76f46522c462</td>\n",
              "      <td>66.79</td>\n",
              "      <td>6.84</td>\n",
              "      <td>84.03</td>\n",
              "    </tr>\n",
              "    <tr>\n",
              "      <th>277</th>\n",
              "      <td>50b59cd75bed76f46522c463</td>\n",
              "      <td>87.50</td>\n",
              "      <td>77.95</td>\n",
              "      <td>60.19</td>\n",
              "    </tr>\n",
              "    <tr>\n",
              "      <th>278</th>\n",
              "      <td>50b59cd75bed76f46522c464</td>\n",
              "      <td>17.49</td>\n",
              "      <td>26.63</td>\n",
              "      <td>52.28</td>\n",
              "    </tr>\n",
              "    <tr>\n",
              "      <th>279</th>\n",
              "      <td>50b59cd75bed76f46522c465</td>\n",
              "      <td>26.68</td>\n",
              "      <td>43.35</td>\n",
              "      <td>20.08</td>\n",
              "    </tr>\n",
              "  </tbody>\n",
              "</table>\n",
              "<p>280 rows × 4 columns</p>\n",
              "</div>"
            ],
            "text/plain": [
              "                             id  exam_score  quiz_score  homework_score\n",
              "0     50b59cd75bed76f46522c34e        57.93       21.25           51.65\n",
              "1     50b59cd75bed76f46522c34f        39.18       78.44           48.94\n",
              "2     50b59cd75bed76f46522c350        88.23       79.29           37.29\n",
              "3     50b59cd75bed76f46522c351        59.18       47.59           51.12\n",
              "4     50b59cd75bed76f46522c352         4.44       28.63           85.35\n",
              "..                          ...         ...         ...             ...\n",
              "275   50b59cd75bed76f46522c461        19.76       88.30           30.80\n",
              "276   50b59cd75bed76f46522c462        66.79        6.84           84.03\n",
              "277   50b59cd75bed76f46522c463        87.50       77.95           60.19\n",
              "278   50b59cd75bed76f46522c464        17.49       26.63           52.28\n",
              "279   50b59cd75bed76f46522c465        26.68       43.35           20.08\n",
              "\n",
              "[280 rows x 4 columns]"
            ]
          },
          "metadata": {
            "tags": []
          },
          "execution_count": 140
        }
      ]
    },
    {
      "cell_type": "code",
      "metadata": {
        "colab": {
          "base_uri": "https://localhost:8080/",
          "height": 295
        },
        "id": "TNTp_Jo1iV1W",
        "outputId": "fa881874-2db0-4020-855c-28642b326a86"
      },
      "source": [
        "x = new_df.exam_score\n",
        "y = new_df.homework_score\n",
        "plt.scatter(x,y)\n",
        "plt.xlabel('Exam Score')\n",
        "plt.ylabel('Homework Score')\n",
        "plt.title('Exam Score V/S Homework Score')\n",
        "plt.show()"
      ],
      "execution_count": null,
      "outputs": [
        {
          "output_type": "display_data",
          "data": {
            "image/png": "[encoded data removed]",
            "text/plain": [
              "<Figure size 432x288 with 1 Axes>"
            ]
          },
          "metadata": {
            "tags": [],
            "needs_background": "light"
          }
        }
      ]
    }
  ]
}